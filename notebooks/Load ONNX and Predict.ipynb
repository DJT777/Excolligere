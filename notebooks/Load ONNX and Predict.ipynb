{
 "cells": [
  {
   "cell_type": "code",
   "execution_count": 1,
   "id": "6102a45b",
   "metadata": {},
   "outputs": [
    {
     "name": "stdout",
     "output_type": "stream",
     "text": [
      "Collecting onnx\n",
      "  Downloading onnx-1.13.0-cp39-cp39-manylinux_2_17_x86_64.manylinux2014_x86_64.whl (13.5 MB)\n",
      "\u001b[2K     \u001b[38;2;114;156;31m━━━━━━━━━━━━━━━━━━━━━━━━━━━━━━━━━━━━━━━━\u001b[0m \u001b[32m13.5/13.5 MB\u001b[0m \u001b[31m6.6 MB/s\u001b[0m eta \u001b[36m0:00:00\u001b[0mm eta \u001b[36m0:00:01\u001b[0m0:01\u001b[0m:01\u001b[0m\n",
      "\u001b[?25hCollecting onnxruntime\n",
      "  Downloading onnxruntime-1.14.0-cp39-cp39-manylinux_2_27_x86_64.whl (5.0 MB)\n",
      "\u001b[2K     \u001b[38;2;114;156;31m━━━━━━━━━━━━━━━━━━━━━━━━━━━━━━━━━━━━━━━━\u001b[0m \u001b[32m5.0/5.0 MB\u001b[0m \u001b[31m4.5 MB/s\u001b[0m eta \u001b[36m0:00:00\u001b[0mm eta \u001b[36m0:00:01\u001b[0m[36m0:00:01\u001b[0mm\n",
      "\u001b[?25hRequirement already satisfied: numpy in /home/dylan/anaconda3/lib/python3.9/site-packages (1.21.5)\n",
      "Collecting protobuf<4,>=3.20.2\n",
      "  Downloading protobuf-3.20.3-cp39-cp39-manylinux_2_5_x86_64.manylinux1_x86_64.whl (1.0 MB)\n",
      "\u001b[2K     \u001b[38;2;114;156;31m━━━━━━━━━━━━━━━━━━━━━━━━━━━━━━━━━━━━━━━━\u001b[0m \u001b[32m1.0/1.0 MB\u001b[0m \u001b[31m6.4 MB/s\u001b[0m eta \u001b[36m0:00:00\u001b[0mm eta \u001b[36m0:00:01\u001b[0m[36m0:00:01\u001b[0m\n",
      "\u001b[?25hRequirement already satisfied: typing-extensions>=3.6.2.1 in /home/dylan/anaconda3/lib/python3.9/site-packages (from onnx) (4.3.0)\n",
      "Requirement already satisfied: packaging in /home/dylan/anaconda3/lib/python3.9/site-packages (from onnxruntime) (21.3)\n",
      "Requirement already satisfied: sympy in /home/dylan/anaconda3/lib/python3.9/site-packages (from onnxruntime) (1.10.1)\n",
      "Collecting numpy\n",
      "  Downloading numpy-1.24.2-cp39-cp39-manylinux_2_17_x86_64.manylinux2014_x86_64.whl (17.3 MB)\n",
      "\u001b[2K     \u001b[38;2;114;156;31m━━━━━━━━━━━━━━━━━━━━━━━━━━━━━━━━━━━━━━━━\u001b[0m \u001b[32m17.3/17.3 MB\u001b[0m \u001b[31m4.8 MB/s\u001b[0m eta \u001b[36m0:00:00\u001b[0mm eta \u001b[36m0:00:01\u001b[0m[36m0:00:01\u001b[0m\n",
      "\u001b[?25hCollecting coloredlogs\n",
      "  Downloading coloredlogs-15.0.1-py2.py3-none-any.whl (46 kB)\n",
      "\u001b[2K     \u001b[38;2;114;156;31m━━━━━━━━━━━━━━━━━━━━━━━━━━━━━━━━━━━━━━━\u001b[0m \u001b[32m46.0/46.0 kB\u001b[0m \u001b[31m857.9 kB/s\u001b[0m eta \u001b[36m0:00:00\u001b[0m31m61.5 MB/s\u001b[0m eta \u001b[36m0:00:01\u001b[0m\n",
      "\u001b[?25hCollecting flatbuffers\n",
      "  Downloading flatbuffers-23.1.21-py2.py3-none-any.whl (26 kB)\n",
      "Collecting humanfriendly>=9.1\n",
      "  Downloading humanfriendly-10.0-py2.py3-none-any.whl (86 kB)\n",
      "\u001b[2K     \u001b[38;2;114;156;31m━━━━━━━━━━━━━━━━━━━━━━━━━━━━━━━━━━━━━━━━\u001b[0m \u001b[32m86.8/86.8 kB\u001b[0m \u001b[31m1.9 MB/s\u001b[0m eta \u001b[36m0:00:00\u001b[0m[31m92.5 MB/s\u001b[0m eta \u001b[36m0:00:01\u001b[0m\n",
      "\u001b[?25hRequirement already satisfied: pyparsing!=3.0.5,>=2.0.2 in /home/dylan/anaconda3/lib/python3.9/site-packages (from packaging->onnxruntime) (3.0.9)\n",
      "Requirement already satisfied: mpmath>=0.19 in /home/dylan/anaconda3/lib/python3.9/site-packages (from sympy->onnxruntime) (1.2.1)\n",
      "Installing collected packages: flatbuffers, protobuf, numpy, humanfriendly, onnx, coloredlogs, onnxruntime\n",
      "  Attempting uninstall: numpy\n",
      "    Found existing installation: numpy 1.21.5\n",
      "    Uninstalling numpy-1.21.5:\n",
      "      Successfully uninstalled numpy-1.21.5\n",
      "\u001b[31mERROR: pip's dependency resolver does not currently take into account all the packages that are installed. This behaviour is the source of the following dependency conflicts.\n",
      "daal4py 2021.6.0 requires daal==2021.4.0, which is not installed.\n",
      "numba 0.55.1 requires numpy<1.22,>=1.18, but you have numpy 1.24.2 which is incompatible.\u001b[0m\u001b[31m\n",
      "\u001b[0mSuccessfully installed coloredlogs-15.0.1 flatbuffers-23.1.21 humanfriendly-10.0 numpy-1.24.2 onnx-1.13.0 onnxruntime-1.14.0 protobuf-3.20.3\n"
     ]
    }
   ],
   "source": [
    "!pip install onnx onnxruntime numpy"
   ]
  },
  {
   "cell_type": "code",
   "execution_count": 20,
   "id": "aa4a0936",
   "metadata": {},
   "outputs": [
    {
     "name": "stdout",
     "output_type": "stream",
     "text": [
      "Input name: obs\n",
      "Input shape: [1, 29]\n",
      "Output name: mu\n",
      "Output shape: [1, 6]\n",
      "Output name: log_std\n",
      "Output shape: [1, 6]\n",
      "Output name: value\n",
      "Output shape: [1, 1]\n"
     ]
    }
   ],
   "source": [
    "import onnxruntime as ort\n",
    "import numpy as np\n",
    "\n",
    "# Load the ONNX model\n",
    "sess = ort.InferenceSession('/home/dylan/Desktop/repos/OmniIsaacGymEnvs-DofbotReacher/dofbotreacherDefault.onnx')\n",
    "\n",
    "# Get the input and output names of the model\n",
    "input_name = sess.get_inputs()[0].name\n",
    "output_name = sess.get_outputs()[0].name\n",
    "\n",
    "# Get the input names and shapes\n",
    "input_info = sess.get_inputs()\n",
    "output_info = sess.get_outputs()\n",
    "\n",
    "for i in input_info:\n",
    "    print(\"Input name:\", i.name)\n",
    "    print(\"Input shape:\", i.shape)\n",
    "    \n",
    "for i in output_info:\n",
    "    print(\"Output name:\", i.name)\n",
    "    print(\"Output shape:\", i.shape)"
   ]
  },
  {
   "cell_type": "code",
   "execution_count": 21,
   "id": "34a65af3",
   "metadata": {},
   "outputs": [
    {
     "name": "stdout",
     "output_type": "stream",
     "text": [
      "[array([[-1.3059846, -2.9862392, -1.9025381, -1.3023462, -1.1185279,\n",
      "        -1.763873 ]], dtype=float32), array([[-2.7289395, -2.1363962, -2.010333 , -2.3337207, -1.4635202,\n",
      "        -1.023427 ]], dtype=float32), array([[-4.0156775]], dtype=float32)]\n"
     ]
    }
   ],
   "source": [
    "\n",
    "import numpy as np\n",
    "\n",
    "# Create the individual arrays\n",
    "jointPos = np.zeros(6)\n",
    "jointVel = np.zeros(6)\n",
    "goalPos = np.full(3, 0.5)\n",
    "goalRot = np.zeros(4)\n",
    "goalRotRel = np.zeros(4)\n",
    "prevAct = np.full(6, 0)\n",
    "\n",
    "# Concatenate the arrays into a single array\n",
    "input_data = np.concatenate((jointPos, jointVel, goalPos, goalRot, goalRotRel, prevAct), dtype=np.float32)\n",
    "input_dict = {input_name: input_data.reshape(1, -1)}\n",
    "\n",
    "# Run the model on the input data\n",
    "output = sess.run(None, input_dict)\n",
    "\n",
    "# Print the output\n",
    "print(output)"
   ]
  },
  {
   "cell_type": "code",
   "execution_count": 24,
   "id": "85892fd0",
   "metadata": {},
   "outputs": [],
   "source": [
    "RAD_TO_DEG = 180 / np.pi\n",
    "\n",
    "predictedDegrees = output[0] * RAD_TO_DEG"
   ]
  },
  {
   "cell_type": "code",
   "execution_count": 27,
   "id": "06160ce4",
   "metadata": {},
   "outputs": [
    {
     "name": "stdout",
     "output_type": "stream",
     "text": [
      "[[ -74.82741 -171.0989  -109.0074   -74.61894  -64.08693 -101.06248]]\n"
     ]
    }
   ],
   "source": [
    "print(predictedDegrees)"
   ]
  },
  {
   "cell_type": "code",
   "execution_count": null,
   "id": "58aef32d",
   "metadata": {},
   "outputs": [],
   "source": []
  }
 ],
 "metadata": {
  "kernelspec": {
   "display_name": "Python 3 (ipykernel)",
   "language": "python",
   "name": "python3"
  },
  "language_info": {
   "codemirror_mode": {
    "name": "ipython",
    "version": 3
   },
   "file_extension": ".py",
   "mimetype": "text/x-python",
   "name": "python",
   "nbconvert_exporter": "python",
   "pygments_lexer": "ipython3",
   "version": "3.9.13"
  }
 },
 "nbformat": 4,
 "nbformat_minor": 5
}
